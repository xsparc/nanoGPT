{
 "cells": [
  {
   "attachments": {},
   "cell_type": "markdown",
   "metadata": {},
   "source": [
    "# GPT Practice"
   ]
  },
  {
   "cell_type": "code",
   "execution_count": null,
   "metadata": {},
   "outputs": [],
   "source": [
    "# Check if torch can use cuda.\n",
    "import torch\n",
    "\n",
    "s1  = torch.cuda.is_available()\n",
    "s2 = torch.cuda.device_count()\n",
    "s3 = torch.cuda.current_device()\n",
    "s4 = torch.cuda.get_device_name(0)\n",
    "print(f'{s1}, {s2}, {s3}, {s4}')"
   ]
  },
  {
   "cell_type": "code",
   "execution_count": null,
   "metadata": {},
   "outputs": [],
   "source": [
    "# Get dataset\n",
    "import wget\n",
    "from pathlib import Path\n",
    "\n",
    "# Checks if dataset was already downloaded. Skips the download routine if dataset was detected.\n",
    "dataset_path = Path.cwd() / 'input.txt'\n",
    "if not dataset_path.exists():\n",
    "    url = 'https://raw.githubusercontent.com/karpathy/char-rnn/master/data/tinyshakespeare/input.txt'\n",
    "    filename = wget.download(url)\n",
    "    print(f'Done downloading dataset {filename} from {url}')\n",
    "else:\n",
    "    print(\"Dataset already existed hence skipping download.\")"
   ]
  },
  {
   "cell_type": "code",
   "execution_count": null,
   "metadata": {},
   "outputs": [],
   "source": []
  }
 ],
 "metadata": {
  "kernelspec": {
   "display_name": "Python 3",
   "language": "python",
   "name": "python3"
  },
  "language_info": {
   "codemirror_mode": {
    "name": "ipython",
    "version": 3
   },
   "file_extension": ".py",
   "mimetype": "text/x-python",
   "name": "python",
   "nbconvert_exporter": "python",
   "pygments_lexer": "ipython3",
   "version": "3.8.10"
  },
  "orig_nbformat": 4
 },
 "nbformat": 4,
 "nbformat_minor": 2
}
